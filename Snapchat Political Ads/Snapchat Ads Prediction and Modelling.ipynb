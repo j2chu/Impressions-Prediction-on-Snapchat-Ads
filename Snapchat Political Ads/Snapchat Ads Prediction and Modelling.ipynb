{
 "cells": [
  {
   "cell_type": "markdown",
   "metadata": {},
   "source": [
    "# Snapchat Political Ads"
   ]
  },
  {
   "cell_type": "markdown",
   "metadata": {},
   "source": [
    "# Summary of Findings\n",
    "\n",
    "\n",
    "### Introduction\n",
    "Often times, advertisers or companies would like to optimize their resources in order to reach their preferred audience. Advertisers would often have different options to regulate different attributes that their ad, such as target region, age, and specific interests that the ad is related to. However, other factors that can influence the reach of ads may include which country the advertisement originated, the language the ad was in, and when the ad was produced. In this project, we will train a model in order to predict important and representative features of the ad. **Specifically, we will train different types of regression models and analyze their effectiveness in order to predict the amount of impressions of the ad.**\n",
    "\n",
    "### Baseline Model\n",
    "First, we went to https://www.snap.com/en-US/political-ads/ in order to obtain the two snapchat political ads csv files: one for the year 2018 and one for the year 2019. We convert both csv files into dataframes and then concatenate the data frames in order to get a singular set of data for our model. In this baseline model, the year that the ad was advertised may provide useful information, so a column indicating which year the ad was advertised was added to the dataframe.\n",
    "\n",
    "Then, we begin to create our model pipelines and fit our model. \n",
    "1. We first drop all columns that are unique to each ad, such as the columns `'ADID', 'CreativeUrl', 'OrganizationName', 'BillingAddress', 'CandidateBallotInformation', 'PayingAdvertiserName', 'CreativeProperties', 'Impressions', 'StartDate', 'EndDate'.`\n",
    "\n",
    "2. Then we will begin to use linear regression on the other columns. **Our pipeline will include a column transformer for all categorical columns which includes a simple imputer to change `nan` values into the string `‘NULL’` for computation and one hot encode all of the categorical columns as well as a simple imputer for numerical columns to change `nan` values into `0`.** \n",
    "\n",
    "This is purely a baseline model for our analysis that we will improve on later. We then finish our model pipeline by transforming our data set and using linear regression using a pipeline. \n",
    "\n",
    "\n",
    "In order to evaluate the effectiveness of our model, we will split our data set into 2 parts: a training set and a testing set. This is used in order to figure out whether our model is a victim of multicollinearity, or figure out whether our model is learning the individuals of its training set. We then train the model on the training set and test how well the model does on the testing set. **We will use two objectives to evaluate our model: R^2 to determine whether or not this is a decent model for predicting the training set `Impressions` and root mean squared error (RMSE) to determine how far away the predictions are from the real output.** \n",
    "* In this model, we have an **R^2 value of about 0.470420 and an RMSE of about 2422343 impressions.** \n",
    "    * The R^2 tells us that our model is not good at predicting our training set and the RMSE tells us that the residuals of the data is very far away from our fit. In fact, a distribution of 100 `train_test_split` model simulations gives us a distribution with **extremely high NEGATIVE R^2 values.** \n",
    "* This is an indicator that our baseline model is doing poorly in predicting the `Impressions` in the training set and is learning the individuals within its testing set instead of predicting `Impressions` values. We will then improve on this model. \n",
    "\n",
    "\n",
    "### Final Model\n",
    "We will begin to improve our prediction model. \n",
    "1. We begin by looking at the columns of our data set, and notice how some columns of the data set contains a string of variables that state the included or excluded categories. These columns (which we will call ordinal columns) include `'Regions (Included)','Regions (Excluded)', 'Electoral Districts (Included)', 'Electoral Districts (Included)', 'Interests', 'Radius Targeting (Included)',  'Radius Targeting (Excluded)', 'Metros (Included)', 'Metros (Excluded)', 'Postal Codes (Included)', 'Postal Codes (Excluded)', 'Location Categories (Included)', 'Location Categories (Excluded)', 'AdvancedDemographics', 'AgeBracket'.` \n",
    "2. We also notice that the `AgeBracket` column contains multiple kinds of brackets and different age groups.\n",
    "3. **Thus, we will improve our model pipeline by transforming these columns. We will ordinal encode all the ordinal columns by the amount of variables they have included in the string and we will transform the `AgeBracket` column by computing the midpoint of the bracket based on the age demographic of most Snapchat users.** \n",
    "    * The reasoning behind the `AgeBracket` transformation is put in more detail in project 3, but the main point is that the majority of Snapchat users are around ages 13 - 24 (from , https://influencermarketinghub.com/snapchat-statistics-revenue/) thus midpoints and age brackets will reflect this type of majority. \n",
    "4. Additionally, one hot encoded columns may be very correlated with one another, such as `Targeting Connection Type` and `Targeting Carrier (ISP)` (as the internet connection used may be the same as the internet carrier). \n",
    "\n",
    "We once again evaluate the effectiveness of our model by splitting our data set into 2 parts: a training set and a testing set. \n",
    "* In this improved model, we have an **R^2 value of about 0.729394 and an RMSE of about 1942910 impressions.** \n",
    "    * The R^2 tells us that our improved model is a better model than our baseline model and the improved model has a lower RMSE than the baseline model by about 479430 impressions. A distribution of 100 `train_test_split` improved model simulations gives us a distribution with **R^2 values close to 0.5 and above, but still includes some negative R^2 values.**\n",
    "* This is an indicator that our improved model is doing better in predicting the `Impressions` in the training set than our baseline model.\n",
    "\n",
    "Additionally, we can create a `DecisionTreeClassifier` from the `sklearn` ML-pipeline and use the numerical columns of our data set in order to predict the `Impressions`. Additionally, we can determine which parameter in this model is being used the most to predict our `Impressions`. \n",
    "* We first take the numerical columns, 'Spend', 'Targeting Connection Type', 'Targeting Carrier (ISP)', 'Year', and train_test_split using the numerical columns. \n",
    "* We then create a DecisionTreeClassifier and then train our model on the training set and test our results on both the training set and the test set. \n",
    "* The R^2 value for our sklearn model for the training set is around 0.471929, about the same as our baseline model, but the R^2 value using the test set is around 0.001020, an extremely low R^2 value. The RMSE for the test set is actually better than our improved model, about 1720453 impressions. \n",
    "* A distribution of 100 `train_test_split` sklearn model simulations gives us a distribution with **R^2 values between 0 and 0.002.** This is an indicator that our sklearn model still needs improvement, but is doing relatively better than our baseline model.\n",
    "\n",
    "We can see that using parameters from our sklearn model, the decision tree used Spend the most while making decisions and not using `Targeting Connection Type` or `Targeting Carrier (ISP)` at all (mainly due to the fact that they are all empty nan values). We can also see the **max depth of the decision tree created (480)** and the **number of nodes (if else statements) of the tree (2717)**. These values are gigantic and a result of learning the individuals instead of predicting. We can then change the max depth of the tree and determine which **max depth gives us the greatest R^2 score, which is at 2, 222, 302, 402, and 442 max depth.**\n",
    "\n",
    "### Fairness Evaluation\n",
    "Models may often run into some biases when predicting outcomes from their test data. One particular group within the data may experience a lower quality in their predictions than another group due to being a minority in the training data. We will evaluate our improved model by looking at the `Spend` column. Spending the correct amount of money for advertisements may be crucial for a campaign or company’s position in society. Spending too much money and getting back a lower than expected impressions expends valuable resources that could have been allocated to other areas. Spending too little money and getting higher than expected impressions makes the company lose out on the opportunity cost of more viewers and advertisement influences. Although our model predicts impressions with `Spend` as one of its variables, we want to know whether or not our model works better on more expensive ads or cheaper ads and allow advertisers to be more skeptical about these predictions. Thus we will use a permutation test to determine fairness in our model and use the RMSE for `Impressions` to ask whether or not higher or lower spend influences prediction. More specifically, we will ask the question: **do ads with a lower spend have close prediction results to actual results for `Impressions` than ads with a higher spend?**\n",
    "\n",
    "We first replicate the same process of model training and testing as we did with our improve model. We will then create a bar graph visualization that visualizes the RMSE of different spends based on brackets of bin 1000s. \n",
    "* We used the mean to determine whether or not an ad will be a high spend ad or a low spend ad because a majority of the ads in the data are within the low range of spend, but the mean allows us to encompass more expensive ads that would otherwise seem “cheap” but look slightly expensive considering all other ads. \n",
    "Looking at this graph, it is clear that the RMSE increases as spend increases. A table is made in order to demonstrate that high spending ads tend to have a high RMSE in our model. In our question, we wanted to ask ads with a lower spend have close prediction results to actual results than ads with a higher spend. We first create a null hypothesis that we can simulate and an alternative hypothesis. **Our test statistic will be difference in RMSE between high spend ads and low spend ads. Thus our null hypothesis and alternative hypothesis are:**\n",
    "\n",
    "𝐻0:  The RMSE for ads with a higher spend is about the same compared to ads with a lower spend\n",
    "𝐻𝛼:  The RMSE for ads with a higher spend is greater than ads with a lower spend\n",
    "We will then run a hypothesis test with a significance level of  𝛼  = 0.05 to analyze whether or not we should be in favor of our null hypothesis or our alternative hypothesis.\n",
    "\n",
    "1. When calculating our observed difference in RMSE for ads with low spend vs. high spend, we get around -11176600. This is interpreted as ads with low spend having an RMSE that is lower than high spend ads by about 11176600 Impressions.\n",
    "2. We then simulate the null hypothesis by randomly shuffling the label of high spend and low spend. We repeat this 1000 times and get a distribution of differences.\n",
    "3. To compute the p-value, we find the proportion of times in which our sampled differences are less than or equal to our observed difference (low spend RMSE - high spend RMSE).\n",
    "4. We find that the **p-value is 0.00**, indicating that there are no differences generated from our sampled differences that are less than our observed difference. Because the **p-value <  𝛼**, we reject our null hypothesis that ads with a lower spend have similar prediction results to actual results compared to ads with a higher spend in favor of our alternative hypothesis that ads with a lower spend have closer prediction results to actual results than ads with a higher spend. **We can then conclude based on our hypothesis test that our model has a larger bias in having better predictions of `Impressions` for lower spending ads than higher spending ads.**\n"
   ]
  },
  {
   "cell_type": "markdown",
   "metadata": {},
   "source": [
    "# Code"
   ]
  },
  {
   "cell_type": "code",
   "execution_count": 2,
   "metadata": {},
   "outputs": [],
   "source": [
    "import matplotlib.pyplot as plt\n",
    "import numpy as np\n",
    "import os\n",
    "import pandas as pd\n",
    "import seaborn as sns\n",
    "import math\n",
    "%matplotlib inline\n",
    "%config InlineBackend.figure_format = 'retina'  # Higher resolution figures\n",
    "\n",
    "from sklearn.impute import SimpleImputer\n",
    "from sklearn.tree import DecisionTreeClassifier\n",
    "from sklearn.model_selection import train_test_split\n",
    "from sklearn.decomposition import PCA\n",
    "from sklearn.linear_model import LinearRegression\n",
    "from sklearn.preprocessing import OneHotEncoder\n",
    "\n",
    "from sklearn.pipeline import Pipeline\n",
    "from sklearn.compose import ColumnTransformer\n",
    "from sklearn import metrics"
   ]
  },
  {
   "cell_type": "markdown",
   "metadata": {},
   "source": [
    "### Baseline Model"
   ]
  },
  {
   "cell_type": "code",
   "execution_count": 3,
   "metadata": {},
   "outputs": [],
   "source": [
    "# We downloaded the csv files and converted the files into a dataframe\n",
    "ads_2018 = os.path.join('data', 'PoliticalAds - 2018.csv')\n",
    "ads_2019 = os.path.join('data', 'PoliticalAds - 2019.csv')\n",
    "\n",
    "#split into 2018 and 2019 year\n",
    "political_ads_2018 = pd.read_csv(ads_2018)\n",
    "political_ads_2019 = pd.read_csv(ads_2019)\n",
    "\n",
    "# Add years to each dataframe indicating which year that the ad was advertised\n",
    "political_ads_2018 = political_ads_2018.assign(Year = [2018] * len(political_ads_2018))\n",
    "political_ads_2019 = political_ads_2019.assign(Year = [2019] * len(political_ads_2019))\n",
    "\n",
    "# concatinate the two dataframes and \n",
    "# create one political ads dataframe with the two years\n",
    "political_2018_2019=pd.concat([political_ads_2018,political_ads_2019],ignore_index=True)"
   ]
  },
  {
   "cell_type": "code",
   "execution_count": 4,
   "metadata": {
    "scrolled": true
   },
   "outputs": [
    {
     "data": {
      "text/html": [
       "<div>\n",
       "<style scoped>\n",
       "    .dataframe tbody tr th:only-of-type {\n",
       "        vertical-align: middle;\n",
       "    }\n",
       "\n",
       "    .dataframe tbody tr th {\n",
       "        vertical-align: top;\n",
       "    }\n",
       "\n",
       "    .dataframe thead th {\n",
       "        text-align: right;\n",
       "    }\n",
       "</style>\n",
       "<table border=\"1\" class=\"dataframe\">\n",
       "  <thead>\n",
       "    <tr style=\"text-align: right;\">\n",
       "      <th></th>\n",
       "      <th>ADID</th>\n",
       "      <th>CreativeUrl</th>\n",
       "      <th>Currency Code</th>\n",
       "      <th>Spend</th>\n",
       "      <th>Impressions</th>\n",
       "      <th>StartDate</th>\n",
       "      <th>EndDate</th>\n",
       "      <th>OrganizationName</th>\n",
       "      <th>BillingAddress</th>\n",
       "      <th>CandidateBallotInformation</th>\n",
       "      <th>...</th>\n",
       "      <th>Location Categories (Excluded)</th>\n",
       "      <th>Interests</th>\n",
       "      <th>OsType</th>\n",
       "      <th>Segments</th>\n",
       "      <th>Language</th>\n",
       "      <th>AdvancedDemographics</th>\n",
       "      <th>Targeting Connection Type</th>\n",
       "      <th>Targeting Carrier (ISP)</th>\n",
       "      <th>CreativeProperties</th>\n",
       "      <th>Year</th>\n",
       "    </tr>\n",
       "  </thead>\n",
       "  <tbody>\n",
       "    <tr>\n",
       "      <th>0</th>\n",
       "      <td>1136caa80e38faf9c6cad855be7f27ea3065d3cf69c8cf...</td>\n",
       "      <td>https://www.snap.com/political-ads/asset/8bbcc...</td>\n",
       "      <td>USD</td>\n",
       "      <td>103</td>\n",
       "      <td>23669</td>\n",
       "      <td>2018/11/02 22:38:51Z</td>\n",
       "      <td>2018/11/07 02:00:00Z</td>\n",
       "      <td>BCom Solutions</td>\n",
       "      <td>919 Central Ave,Auburn,68305,US</td>\n",
       "      <td>NaN</td>\n",
       "      <td>...</td>\n",
       "      <td>NaN</td>\n",
       "      <td>NaN</td>\n",
       "      <td>NaN</td>\n",
       "      <td>Provided by Advertiser</td>\n",
       "      <td>NaN</td>\n",
       "      <td>NaN</td>\n",
       "      <td>NaN</td>\n",
       "      <td>NaN</td>\n",
       "      <td>web_view_url:https://therealbenhansen.com/</td>\n",
       "      <td>2018</td>\n",
       "    </tr>\n",
       "    <tr>\n",
       "      <th>1</th>\n",
       "      <td>c078fba4ecd4062a241e063efa75ad61f3c459a6f50b08...</td>\n",
       "      <td>https://www.snap.com/political-ads/asset/a4972...</td>\n",
       "      <td>USD</td>\n",
       "      <td>1656</td>\n",
       "      <td>456576</td>\n",
       "      <td>2018/10/29 17:40:22Z</td>\n",
       "      <td>2018/11/04 04:00:00Z</td>\n",
       "      <td>ACRONYM</td>\n",
       "      <td>US</td>\n",
       "      <td>NaN</td>\n",
       "      <td>...</td>\n",
       "      <td>NaN</td>\n",
       "      <td>Advocates &amp; Activists,Basketball Fans,Bookworm...</td>\n",
       "      <td>NaN</td>\n",
       "      <td>Provided by Advertiser</td>\n",
       "      <td>NaN</td>\n",
       "      <td>NaN</td>\n",
       "      <td>NaN</td>\n",
       "      <td>NaN</td>\n",
       "      <td>web_view_url:https://plan.showupto.vote/</td>\n",
       "      <td>2018</td>\n",
       "    </tr>\n",
       "    <tr>\n",
       "      <th>2</th>\n",
       "      <td>966f103cba530d8c84fc487f2dd22030fcba01a7a2b46a...</td>\n",
       "      <td>https://www.snap.com/political-ads/asset/f98be...</td>\n",
       "      <td>USD</td>\n",
       "      <td>832</td>\n",
       "      <td>75553</td>\n",
       "      <td>2018/10/18 18:36:25Z</td>\n",
       "      <td>2018/11/06 23:00:00Z</td>\n",
       "      <td>Bully Pulpit Interactive</td>\n",
       "      <td>1140 Connecticut Ave NW, Suite 800,Washington,...</td>\n",
       "      <td>NaN</td>\n",
       "      <td>...</td>\n",
       "      <td>NaN</td>\n",
       "      <td>NaN</td>\n",
       "      <td>NaN</td>\n",
       "      <td>NaN</td>\n",
       "      <td>NaN</td>\n",
       "      <td>NaN</td>\n",
       "      <td>NaN</td>\n",
       "      <td>NaN</td>\n",
       "      <td>NaN</td>\n",
       "      <td>2018</td>\n",
       "    </tr>\n",
       "    <tr>\n",
       "      <th>3</th>\n",
       "      <td>1092ee8cd81a5e3927fc2949f0ebb69a37c70691b5180e...</td>\n",
       "      <td>https://www.snap.com/political-ads/asset/4e111...</td>\n",
       "      <td>USD</td>\n",
       "      <td>77</td>\n",
       "      <td>27808</td>\n",
       "      <td>2018/11/03 07:00:01Z</td>\n",
       "      <td>2018/11/06 07:59:59Z</td>\n",
       "      <td>Mammoth</td>\n",
       "      <td>501 East Pine St #201,Seattle,98122,US</td>\n",
       "      <td>NaN</td>\n",
       "      <td>...</td>\n",
       "      <td>NaN</td>\n",
       "      <td>NaN</td>\n",
       "      <td>NaN</td>\n",
       "      <td>Provided by Advertiser</td>\n",
       "      <td>NaN</td>\n",
       "      <td>NaN</td>\n",
       "      <td>NaN</td>\n",
       "      <td>NaN</td>\n",
       "      <td>web_view_url:https://kingcounty.gov/depts/elec...</td>\n",
       "      <td>2018</td>\n",
       "    </tr>\n",
       "    <tr>\n",
       "      <th>4</th>\n",
       "      <td>e59ec85002aaab5abc6b6c8ed2743f6420df559ee4b1a0...</td>\n",
       "      <td>https://www.snap.com/political-ads/asset/9dfa5...</td>\n",
       "      <td>USD</td>\n",
       "      <td>55</td>\n",
       "      <td>15862</td>\n",
       "      <td>2018/09/25 20:57:04Z</td>\n",
       "      <td>2018/09/30 03:59:59Z</td>\n",
       "      <td>ACRONYM</td>\n",
       "      <td>US</td>\n",
       "      <td>NaN</td>\n",
       "      <td>...</td>\n",
       "      <td>NaN</td>\n",
       "      <td>Collegiates,Green Living Enthusiasts,Outdoor &amp;...</td>\n",
       "      <td>NaN</td>\n",
       "      <td>Provided by Advertiser</td>\n",
       "      <td>NaN</td>\n",
       "      <td>NaN</td>\n",
       "      <td>NaN</td>\n",
       "      <td>NaN</td>\n",
       "      <td>web_view_url:https://join.knockthe.vote</td>\n",
       "      <td>2018</td>\n",
       "    </tr>\n",
       "  </tbody>\n",
       "</table>\n",
       "<p>5 rows × 35 columns</p>\n",
       "</div>"
      ],
      "text/plain": [
       "                                                ADID  \\\n",
       "0  1136caa80e38faf9c6cad855be7f27ea3065d3cf69c8cf...   \n",
       "1  c078fba4ecd4062a241e063efa75ad61f3c459a6f50b08...   \n",
       "2  966f103cba530d8c84fc487f2dd22030fcba01a7a2b46a...   \n",
       "3  1092ee8cd81a5e3927fc2949f0ebb69a37c70691b5180e...   \n",
       "4  e59ec85002aaab5abc6b6c8ed2743f6420df559ee4b1a0...   \n",
       "\n",
       "                                         CreativeUrl Currency Code  Spend  \\\n",
       "0  https://www.snap.com/political-ads/asset/8bbcc...           USD    103   \n",
       "1  https://www.snap.com/political-ads/asset/a4972...           USD   1656   \n",
       "2  https://www.snap.com/political-ads/asset/f98be...           USD    832   \n",
       "3  https://www.snap.com/political-ads/asset/4e111...           USD     77   \n",
       "4  https://www.snap.com/political-ads/asset/9dfa5...           USD     55   \n",
       "\n",
       "   Impressions             StartDate               EndDate  \\\n",
       "0        23669  2018/11/02 22:38:51Z  2018/11/07 02:00:00Z   \n",
       "1       456576  2018/10/29 17:40:22Z  2018/11/04 04:00:00Z   \n",
       "2        75553  2018/10/18 18:36:25Z  2018/11/06 23:00:00Z   \n",
       "3        27808  2018/11/03 07:00:01Z  2018/11/06 07:59:59Z   \n",
       "4        15862  2018/09/25 20:57:04Z  2018/09/30 03:59:59Z   \n",
       "\n",
       "           OrganizationName  \\\n",
       "0            BCom Solutions   \n",
       "1                   ACRONYM   \n",
       "2  Bully Pulpit Interactive   \n",
       "3                  Mammoth    \n",
       "4                   ACRONYM   \n",
       "\n",
       "                                      BillingAddress  \\\n",
       "0                    919 Central Ave,Auburn,68305,US   \n",
       "1                                                 US   \n",
       "2  1140 Connecticut Ave NW, Suite 800,Washington,...   \n",
       "3             501 East Pine St #201,Seattle,98122,US   \n",
       "4                                                 US   \n",
       "\n",
       "  CandidateBallotInformation  ...  Location Categories (Excluded)  \\\n",
       "0                        NaN  ...                             NaN   \n",
       "1                        NaN  ...                             NaN   \n",
       "2                        NaN  ...                             NaN   \n",
       "3                        NaN  ...                             NaN   \n",
       "4                        NaN  ...                             NaN   \n",
       "\n",
       "                                           Interests OsType  \\\n",
       "0                                                NaN    NaN   \n",
       "1  Advocates & Activists,Basketball Fans,Bookworm...    NaN   \n",
       "2                                                NaN    NaN   \n",
       "3                                                NaN    NaN   \n",
       "4  Collegiates,Green Living Enthusiasts,Outdoor &...    NaN   \n",
       "\n",
       "                 Segments Language AdvancedDemographics  \\\n",
       "0  Provided by Advertiser      NaN                  NaN   \n",
       "1  Provided by Advertiser      NaN                  NaN   \n",
       "2                     NaN      NaN                  NaN   \n",
       "3  Provided by Advertiser      NaN                  NaN   \n",
       "4  Provided by Advertiser      NaN                  NaN   \n",
       "\n",
       "  Targeting Connection Type  Targeting Carrier (ISP)  \\\n",
       "0                       NaN                      NaN   \n",
       "1                       NaN                      NaN   \n",
       "2                       NaN                      NaN   \n",
       "3                       NaN                      NaN   \n",
       "4                       NaN                      NaN   \n",
       "\n",
       "                                  CreativeProperties  Year  \n",
       "0         web_view_url:https://therealbenhansen.com/  2018  \n",
       "1           web_view_url:https://plan.showupto.vote/  2018  \n",
       "2                                                NaN  2018  \n",
       "3  web_view_url:https://kingcounty.gov/depts/elec...  2018  \n",
       "4            web_view_url:https://join.knockthe.vote  2018  \n",
       "\n",
       "[5 rows x 35 columns]"
      ]
     },
     "execution_count": 4,
     "metadata": {},
     "output_type": "execute_result"
    }
   ],
   "source": [
    "political_2018_2019.head()"
   ]
  },
  {
   "cell_type": "code",
   "execution_count": 5,
   "metadata": {},
   "outputs": [],
   "source": [
    "# drop unique attributes for each ad\n",
    "X = political_2018_2019.drop(['ADID', 'CreativeUrl', 'OrganizationName',\n",
    "                              'BillingAddress', 'CandidateBallotInformation',\n",
    "                              'PayingAdvertiserName', 'CreativeProperties', 'Impressions', \n",
    "                              'StartDate', 'EndDate'], axis=1)\n",
    "\n",
    "# Predicting impressions with regressions model\n",
    "y = political_2018_2019['Impressions']"
   ]
  },
  {
   "cell_type": "code",
   "execution_count": 6,
   "metadata": {},
   "outputs": [
    {
     "data": {
      "text/html": [
       "<div>\n",
       "<style scoped>\n",
       "    .dataframe tbody tr th:only-of-type {\n",
       "        vertical-align: middle;\n",
       "    }\n",
       "\n",
       "    .dataframe tbody tr th {\n",
       "        vertical-align: top;\n",
       "    }\n",
       "\n",
       "    .dataframe thead th {\n",
       "        text-align: right;\n",
       "    }\n",
       "</style>\n",
       "<table border=\"1\" class=\"dataframe\">\n",
       "  <thead>\n",
       "    <tr style=\"text-align: right;\">\n",
       "      <th></th>\n",
       "      <th>Currency Code</th>\n",
       "      <th>Spend</th>\n",
       "      <th>Gender</th>\n",
       "      <th>AgeBracket</th>\n",
       "      <th>CountryCode</th>\n",
       "      <th>Regions (Included)</th>\n",
       "      <th>Regions (Excluded)</th>\n",
       "      <th>Electoral Districts (Included)</th>\n",
       "      <th>Electoral Districts (Excluded)</th>\n",
       "      <th>Radius Targeting (Included)</th>\n",
       "      <th>...</th>\n",
       "      <th>Location Categories (Included)</th>\n",
       "      <th>Location Categories (Excluded)</th>\n",
       "      <th>Interests</th>\n",
       "      <th>OsType</th>\n",
       "      <th>Segments</th>\n",
       "      <th>Language</th>\n",
       "      <th>AdvancedDemographics</th>\n",
       "      <th>Targeting Connection Type</th>\n",
       "      <th>Targeting Carrier (ISP)</th>\n",
       "      <th>Year</th>\n",
       "    </tr>\n",
       "  </thead>\n",
       "  <tbody>\n",
       "    <tr>\n",
       "      <th>0</th>\n",
       "      <td>USD</td>\n",
       "      <td>103</td>\n",
       "      <td>NaN</td>\n",
       "      <td>18+</td>\n",
       "      <td>united states</td>\n",
       "      <td>NaN</td>\n",
       "      <td>NaN</td>\n",
       "      <td>NaN</td>\n",
       "      <td>NaN</td>\n",
       "      <td>NaN</td>\n",
       "      <td>...</td>\n",
       "      <td>NaN</td>\n",
       "      <td>NaN</td>\n",
       "      <td>NaN</td>\n",
       "      <td>NaN</td>\n",
       "      <td>Provided by Advertiser</td>\n",
       "      <td>NaN</td>\n",
       "      <td>NaN</td>\n",
       "      <td>NaN</td>\n",
       "      <td>NaN</td>\n",
       "      <td>2018</td>\n",
       "    </tr>\n",
       "    <tr>\n",
       "      <th>1</th>\n",
       "      <td>USD</td>\n",
       "      <td>1656</td>\n",
       "      <td>MALE</td>\n",
       "      <td>18+</td>\n",
       "      <td>united states</td>\n",
       "      <td>Florida,Michigan,Minnesota,Georgia,Wisconsin,P...</td>\n",
       "      <td>NaN</td>\n",
       "      <td>NaN</td>\n",
       "      <td>NaN</td>\n",
       "      <td>NaN</td>\n",
       "      <td>...</td>\n",
       "      <td>NaN</td>\n",
       "      <td>NaN</td>\n",
       "      <td>Advocates &amp; Activists,Basketball Fans,Bookworm...</td>\n",
       "      <td>NaN</td>\n",
       "      <td>Provided by Advertiser</td>\n",
       "      <td>NaN</td>\n",
       "      <td>NaN</td>\n",
       "      <td>NaN</td>\n",
       "      <td>NaN</td>\n",
       "      <td>2018</td>\n",
       "    </tr>\n",
       "    <tr>\n",
       "      <th>2</th>\n",
       "      <td>USD</td>\n",
       "      <td>832</td>\n",
       "      <td>NaN</td>\n",
       "      <td>18-34</td>\n",
       "      <td>united states</td>\n",
       "      <td>NaN</td>\n",
       "      <td>NaN</td>\n",
       "      <td>NaN</td>\n",
       "      <td>NaN</td>\n",
       "      <td>NaN</td>\n",
       "      <td>...</td>\n",
       "      <td>NaN</td>\n",
       "      <td>NaN</td>\n",
       "      <td>NaN</td>\n",
       "      <td>NaN</td>\n",
       "      <td>NaN</td>\n",
       "      <td>NaN</td>\n",
       "      <td>NaN</td>\n",
       "      <td>NaN</td>\n",
       "      <td>NaN</td>\n",
       "      <td>2018</td>\n",
       "    </tr>\n",
       "    <tr>\n",
       "      <th>3</th>\n",
       "      <td>USD</td>\n",
       "      <td>77</td>\n",
       "      <td>NaN</td>\n",
       "      <td>18+</td>\n",
       "      <td>united states</td>\n",
       "      <td>NaN</td>\n",
       "      <td>NaN</td>\n",
       "      <td>NaN</td>\n",
       "      <td>NaN</td>\n",
       "      <td>NaN</td>\n",
       "      <td>...</td>\n",
       "      <td>NaN</td>\n",
       "      <td>NaN</td>\n",
       "      <td>NaN</td>\n",
       "      <td>NaN</td>\n",
       "      <td>Provided by Advertiser</td>\n",
       "      <td>NaN</td>\n",
       "      <td>NaN</td>\n",
       "      <td>NaN</td>\n",
       "      <td>NaN</td>\n",
       "      <td>2018</td>\n",
       "    </tr>\n",
       "    <tr>\n",
       "      <th>4</th>\n",
       "      <td>USD</td>\n",
       "      <td>55</td>\n",
       "      <td>NaN</td>\n",
       "      <td>18-34</td>\n",
       "      <td>united states</td>\n",
       "      <td>Florida</td>\n",
       "      <td>NaN</td>\n",
       "      <td>NaN</td>\n",
       "      <td>NaN</td>\n",
       "      <td>NaN</td>\n",
       "      <td>...</td>\n",
       "      <td>NaN</td>\n",
       "      <td>NaN</td>\n",
       "      <td>Collegiates,Green Living Enthusiasts,Outdoor &amp;...</td>\n",
       "      <td>NaN</td>\n",
       "      <td>Provided by Advertiser</td>\n",
       "      <td>NaN</td>\n",
       "      <td>NaN</td>\n",
       "      <td>NaN</td>\n",
       "      <td>NaN</td>\n",
       "      <td>2018</td>\n",
       "    </tr>\n",
       "  </tbody>\n",
       "</table>\n",
       "<p>5 rows × 25 columns</p>\n",
       "</div>"
      ],
      "text/plain": [
       "  Currency Code  Spend Gender AgeBracket    CountryCode  \\\n",
       "0           USD    103    NaN        18+  united states   \n",
       "1           USD   1656   MALE        18+  united states   \n",
       "2           USD    832    NaN      18-34  united states   \n",
       "3           USD     77    NaN        18+  united states   \n",
       "4           USD     55    NaN      18-34  united states   \n",
       "\n",
       "                                  Regions (Included) Regions (Excluded)  \\\n",
       "0                                                NaN                NaN   \n",
       "1  Florida,Michigan,Minnesota,Georgia,Wisconsin,P...                NaN   \n",
       "2                                                NaN                NaN   \n",
       "3                                                NaN                NaN   \n",
       "4                                            Florida                NaN   \n",
       "\n",
       "  Electoral Districts (Included)  Electoral Districts (Excluded)  \\\n",
       "0                            NaN                             NaN   \n",
       "1                            NaN                             NaN   \n",
       "2                            NaN                             NaN   \n",
       "3                            NaN                             NaN   \n",
       "4                            NaN                             NaN   \n",
       "\n",
       "  Radius Targeting (Included)  ...  Location Categories (Included)  \\\n",
       "0                         NaN  ...                             NaN   \n",
       "1                         NaN  ...                             NaN   \n",
       "2                         NaN  ...                             NaN   \n",
       "3                         NaN  ...                             NaN   \n",
       "4                         NaN  ...                             NaN   \n",
       "\n",
       "  Location Categories (Excluded)  \\\n",
       "0                            NaN   \n",
       "1                            NaN   \n",
       "2                            NaN   \n",
       "3                            NaN   \n",
       "4                            NaN   \n",
       "\n",
       "                                           Interests OsType  \\\n",
       "0                                                NaN    NaN   \n",
       "1  Advocates & Activists,Basketball Fans,Bookworm...    NaN   \n",
       "2                                                NaN    NaN   \n",
       "3                                                NaN    NaN   \n",
       "4  Collegiates,Green Living Enthusiasts,Outdoor &...    NaN   \n",
       "\n",
       "                 Segments Language AdvancedDemographics  \\\n",
       "0  Provided by Advertiser      NaN                  NaN   \n",
       "1  Provided by Advertiser      NaN                  NaN   \n",
       "2                     NaN      NaN                  NaN   \n",
       "3  Provided by Advertiser      NaN                  NaN   \n",
       "4  Provided by Advertiser      NaN                  NaN   \n",
       "\n",
       "  Targeting Connection Type Targeting Carrier (ISP)  Year  \n",
       "0                       NaN                     NaN  2018  \n",
       "1                       NaN                     NaN  2018  \n",
       "2                       NaN                     NaN  2018  \n",
       "3                       NaN                     NaN  2018  \n",
       "4                       NaN                     NaN  2018  \n",
       "\n",
       "[5 rows x 25 columns]"
      ]
     },
     "execution_count": 6,
     "metadata": {},
     "output_type": "execute_result"
    }
   ],
   "source": [
    "X.head()"
   ]
  },
  {
   "cell_type": "code",
   "execution_count": 7,
   "metadata": {},
   "outputs": [],
   "source": [
    "# differentiate categorial columns and numerical columns\n",
    "types = X.dtypes\n",
    "catcols = types.loc[types == np.object].index\n",
    "numcols = types.loc[types != np.object].index"
   ]
  },
  {
   "cell_type": "code",
   "execution_count": 7,
   "metadata": {},
   "outputs": [],
   "source": [
    "# create pipeline for categoricals and numericals\n",
    "\n",
    "# for categorical: impute nan values with string NULL and one hot encode columns\n",
    "cats = Pipeline([\n",
    "    ('imp', SimpleImputer(strategy='constant', fill_value='NULL')),\n",
    "    ('ohe', OneHotEncoder(handle_unknown='ignore', sparse=False)),\n",
    "])\n",
    "\n",
    "# for numericals: impute nan values with 0\n",
    "ct = ColumnTransformer([\n",
    "    ('catcols', cats, catcols),\n",
    "    ('numcols', SimpleImputer(strategy='constant', fill_value=0), numcols)\n",
    "])\n",
    "\n",
    "# pipeline for transforming columns and linear regression\n",
    "pl = Pipeline([('feats', ct), ('reg', LinearRegression())])"
   ]
  },
  {
   "cell_type": "code",
   "execution_count": 8,
   "metadata": {},
   "outputs": [
    {
     "data": {
      "text/plain": [
       "0.47042030067502216"
      ]
     },
     "execution_count": 8,
     "metadata": {},
     "output_type": "execute_result"
    }
   ],
   "source": [
    "# split into training set and testing set\n",
    "X_tr, X_ts, y_tr, y_ts = train_test_split(X, y, test_size=0.25)\n",
    "\n",
    "# fit pipeline on training set and test for R^2 score on testing set\n",
    "pl.fit(X_tr, y_tr)\n",
    "pl.score(X_ts, y_ts)"
   ]
  },
  {
   "cell_type": "code",
   "execution_count": 9,
   "metadata": {},
   "outputs": [
    {
     "data": {
      "text/plain": [
       "2422343.0465238197"
      ]
     },
     "execution_count": 9,
     "metadata": {},
     "output_type": "execute_result"
    }
   ],
   "source": [
    "# Find root mean squared error for prediction\n",
    "rmse = np.sqrt(np.mean((pl.predict(X_ts) - y_ts)**2))\n",
    "rmse"
   ]
  },
  {
   "cell_type": "code",
   "execution_count": 10,
   "metadata": {},
   "outputs": [
    {
     "data": {
      "image/png": "[encoded data removed]",
      "text/plain": [
       "<Figure size 432x288 with 1 Axes>"
      ]
     },
     "metadata": {
      "image/png": {
       "height": 276,
       "width": 390
      },
      "needs_background": "light"
     },
     "output_type": "display_data"
    }
   ],
   "source": [
    "# distribution of R^2 scores over 100 model builds\n",
    "out = []\n",
    "for _ in range(100):\n",
    "    X_tr, X_ts, y_tr, y_ts = train_test_split(X, y, test_size=0.25)\n",
    "    pl.fit(X_tr, y_tr)\n",
    "    out.append(pl.score(X_ts, y_ts))\n",
    "pd.Series(out).plot(kind='hist', title='R^2 scores in 100 model builds');"
   ]
  },
  {
   "cell_type": "markdown",
   "metadata": {},
   "source": [
    "### Final Model"
   ]
  },
  {
   "cell_type": "code",
   "execution_count": 84,
   "metadata": {},
   "outputs": [
    {
     "data": {
      "text/html": [
       "<div>\n",
       "<style scoped>\n",
       "    .dataframe tbody tr th:only-of-type {\n",
       "        vertical-align: middle;\n",
       "    }\n",
       "\n",
       "    .dataframe tbody tr th {\n",
       "        vertical-align: top;\n",
       "    }\n",
       "\n",
       "    .dataframe thead th {\n",
       "        text-align: right;\n",
       "    }\n",
       "</style>\n",
       "<table border=\"1\" class=\"dataframe\">\n",
       "  <thead>\n",
       "    <tr style=\"text-align: right;\">\n",
       "      <th></th>\n",
       "      <th>Regions (Included)</th>\n",
       "      <th>Regions (Excluded)</th>\n",
       "      <th>AgeBracket</th>\n",
       "    </tr>\n",
       "  </thead>\n",
       "  <tbody>\n",
       "    <tr>\n",
       "      <th>0</th>\n",
       "      <td>NaN</td>\n",
       "      <td>NaN</td>\n",
       "      <td>18+</td>\n",
       "    </tr>\n",
       "    <tr>\n",
       "      <th>1</th>\n",
       "      <td>Florida,Michigan,Minnesota,Georgia,Wisconsin,P...</td>\n",
       "      <td>NaN</td>\n",
       "      <td>18+</td>\n",
       "    </tr>\n",
       "    <tr>\n",
       "      <th>2</th>\n",
       "      <td>NaN</td>\n",
       "      <td>NaN</td>\n",
       "      <td>18-34</td>\n",
       "    </tr>\n",
       "    <tr>\n",
       "      <th>3</th>\n",
       "      <td>NaN</td>\n",
       "      <td>NaN</td>\n",
       "      <td>18+</td>\n",
       "    </tr>\n",
       "    <tr>\n",
       "      <th>4</th>\n",
       "      <td>Florida</td>\n",
       "      <td>NaN</td>\n",
       "      <td>18-34</td>\n",
       "    </tr>\n",
       "  </tbody>\n",
       "</table>\n",
       "</div>"
      ],
      "text/plain": [
       "                                  Regions (Included) Regions (Excluded)  \\\n",
       "0                                                NaN                NaN   \n",
       "1  Florida,Michigan,Minnesota,Georgia,Wisconsin,P...                NaN   \n",
       "2                                                NaN                NaN   \n",
       "3                                                NaN                NaN   \n",
       "4                                            Florida                NaN   \n",
       "\n",
       "  AgeBracket  \n",
       "0        18+  \n",
       "1        18+  \n",
       "2      18-34  \n",
       "3        18+  \n",
       "4      18-34  "
      ]
     },
     "execution_count": 84,
     "metadata": {},
     "output_type": "execute_result"
    }
   ],
   "source": [
    "# looking more at the columns of the data, we can transform columns differently and\n",
    "# use this information to update our model\n",
    "political_2018_2019[['Regions (Included)','Regions (Excluded)', 'AgeBracket']].head()\n",
    "\n",
    "# there are categorical columns that we could ordinal encode as well as transform the \n",
    "# AgeBracket and use pca on correlated categorical columns"
   ]
  },
  {
   "cell_type": "code",
   "execution_count": 85,
   "metadata": {},
   "outputs": [],
   "source": [
    "# differentiate columns based on type\n",
    "types = political_2018_2019.dtypes\n",
    "\n",
    "# drop unique attributes for each ad\n",
    "specificscols = ['ADID', 'CreativeUrl', 'OrganizationName', 'BillingAddress',\n",
    "                 'CandidateBallotInformation', 'PayingAdvertiserName',\n",
    "                 'CreativeProperties', 'Impressions', 'StartDate', 'EndDate']\n",
    "\n",
    "# ordinal columns that will be used to ordinal encode\n",
    "ordinalcols = ['Regions (Included)','Regions (Excluded)',\n",
    "               'Electoral Districts (Included)', 'Electoral Districts (Excluded)',\n",
    "               'Interests', 'Radius Targeting (Included)',\n",
    "               'Radius Targeting (Excluded)', 'Metros (Included)','Metros (Excluded)',\n",
    "               'Postal Codes (Included)', 'Postal Codes (Excluded)',\n",
    "               'Location Categories (Included)','Location Categories (Excluded)',\n",
    "               'AdvancedDemographics', 'AgeBracket']\n",
    "\n",
    "# categorical columns that will be used to one hot encode\n",
    "catcols = [i for i in types.loc[types == np.object].index if i not in ordinalcols\n",
    "           and i not in specificscols]\n",
    "\n",
    "# numerical columns\n",
    "numcols = [i for i in types.loc[types != np.object].index \n",
    "           if i not in ordinalcols \n",
    "           and i not in specificscols and i != 'Impressions']"
   ]
  },
  {
   "cell_type": "code",
   "execution_count": 86,
   "metadata": {},
   "outputs": [],
   "source": [
    "# ordinal encode based on the number of variables/targets\n",
    "\n",
    "def ordinal_tranf(val):\n",
    "    # if val is a nan value, then there are no restricted targets\n",
    "    if type(val) != str and math.isnan(val):\n",
    "        return 0\n",
    "    # else encode the number of restricted targets for the column\n",
    "    else:\n",
    "        return len(val.split(','))\n",
    "\n",
    "# clean age bracket into midpoint age target\n",
    "def find_AgeBracket_midpoint(bracket):\n",
    "    \n",
    "    # midpoint of general snapchat audience of ages 13-24\n",
    "    if type(bracket) != str and math.isnan(bracket):\n",
    "        return 18.5\n",
    "    \n",
    "    else:\n",
    "        # min age is always 2 digits\n",
    "        min_age = bracket[:2]\n",
    "        # find max age\n",
    "        max_age = bracket[-2:]\n",
    "        # if max age is 2 digits, then continue\n",
    "        try:\n",
    "            int(max_age)\n",
    "        # else there is no max age limit for targeting, set max age to 24\n",
    "        except:\n",
    "            max_age = 24\n",
    "        #return midpoint\n",
    "        return (int(min_age) + int(max_age)) / 2"
   ]
  },
  {
   "cell_type": "code",
   "execution_count": 87,
   "metadata": {},
   "outputs": [],
   "source": [
    "# transform ordinal columns\n",
    "X = pd.DataFrame()\n",
    "for i in ordinalcols:\n",
    "    # AgeBracket to midpoint age target\n",
    "    if i == 'AgeBracket':\n",
    "        X[i] = political_2018_2019[i].apply(find_AgeBracket_midpoint)\n",
    "    # ordinal columns into number of variables/targets\n",
    "    else:\n",
    "        X[i] = political_2018_2019[i].apply(ordinal_tranf)"
   ]
  },
  {
   "cell_type": "code",
   "execution_count": 88,
   "metadata": {},
   "outputs": [],
   "source": [
    "X = pd.concat([X, political_2018_2019[numcols]], axis=1)\n",
    "X = pd.concat([X, political_2018_2019[catcols]], axis = 1)\n",
    "y = political_2018_2019['Impressions']"
   ]
  },
  {
   "cell_type": "code",
   "execution_count": 89,
   "metadata": {},
   "outputs": [],
   "source": [
    "# improved categorical pipeline: imputer for null values, \n",
    "# one hot encoder for categorical columns, and pca to drop correlated features\n",
    "cats = Pipeline([\n",
    "    ('imp', SimpleImputer(strategy='constant', fill_value='NULL')),\n",
    "    ('ohe', OneHotEncoder(handle_unknown='ignore', sparse=False)),\n",
    "    ('pca', PCA(svd_solver='full', n_components=0.99))\n",
    "])\n",
    "\n",
    "# for numericals: impute nan values with 0\n",
    "ct = ColumnTransformer([\n",
    "    ('catcols', cats, catcols),\n",
    "    ('numcols', SimpleImputer(strategy='constant', fill_value=0), numcols)\n",
    "])\n",
    "\n",
    "# pipeline for transforming columns and linear regression\n",
    "pl = Pipeline([('feats', ct), ('reg', LinearRegression())])"
   ]
  },
  {
   "cell_type": "code",
   "execution_count": 47,
   "metadata": {},
   "outputs": [
    {
     "data": {
      "text/plain": [
       "0.7293938885559703"
      ]
     },
     "execution_count": 47,
     "metadata": {},
     "output_type": "execute_result"
    }
   ],
   "source": [
    "# split into training set and testing set\n",
    "X_tr, X_ts, y_tr, y_ts = train_test_split(X, y, test_size=0.25)\n",
    "\n",
    "# fit pipeline on training set and test for R^2 score on testing set\n",
    "pl.fit(X_tr, y_tr)\n",
    "pl.score(X_ts, y_ts)"
   ]
  },
  {
   "cell_type": "code",
   "execution_count": 48,
   "metadata": {},
   "outputs": [
    {
     "data": {
      "text/plain": [
       "1942906.516086966"
      ]
     },
     "execution_count": 48,
     "metadata": {},
     "output_type": "execute_result"
    }
   ],
   "source": [
    "# Find root mean squared error for prediction\n",
    "rmse = np.sqrt(np.mean((pl.predict(X_ts) - y_ts)**2))\n",
    "rmse"
   ]
  },
  {
   "cell_type": "code",
   "execution_count": 49,
   "metadata": {},
   "outputs": [
    {
     "data": {
      "image/png": "[encoded data removed]",
      "text/plain": [
       "<Figure size 432x288 with 1 Axes>"
      ]
     },
     "metadata": {
      "image/png": {
       "height": 263,
       "width": 384
      },
      "needs_background": "light"
     },
     "output_type": "display_data"
    }
   ],
   "source": [
    "# distribution of R^2 scores over 100 improved model builds\n",
    "out = []\n",
    "for _ in range(100):\n",
    "    X_tr, X_ts, y_tr, y_ts = train_test_split(X, y, test_size=0.25)\n",
    "    pl.fit(X_tr, y_tr)\n",
    "    out.append(pl.score(X_ts, y_ts))\n",
    "pd.Series(out).plot(kind='hist', title='R^2 scores in 100 model builds');"
   ]
  },
  {
   "cell_type": "code",
   "execution_count": 81,
   "metadata": {},
   "outputs": [],
   "source": [
    "# sklearn ML-pipeline"
   ]
  },
  {
   "cell_type": "code",
   "execution_count": 90,
   "metadata": {},
   "outputs": [],
   "source": [
    "# new model using the DecisionTreeClassifier with determining impressions\n",
    "\n",
    "# only use numerical columns for predicting using DecisionTreeClassifier\n",
    "X = political_2018_2019[numcols].fillna(0)\n",
    "y = political_2018_2019.Impressions"
   ]
  },
  {
   "cell_type": "code",
   "execution_count": 91,
   "metadata": {},
   "outputs": [
    {
     "data": {
      "text/plain": [
       "DecisionTreeClassifier(class_weight=None, criterion='gini', max_depth=None,\n",
       "            max_features=None, max_leaf_nodes=None,\n",
       "            min_impurity_decrease=0.0, min_impurity_split=None,\n",
       "            min_samples_leaf=1, min_samples_split=2,\n",
       "            min_weight_fraction_leaf=0.0, presort=False, random_state=None,\n",
       "            splitter='best')"
      ]
     },
     "execution_count": 91,
     "metadata": {},
     "output_type": "execute_result"
    }
   ],
   "source": [
    "# split our model into training and testing set\n",
    "X_tr, X_ts, y_tr, y_ts = train_test_split(X, y, test_size=0.25)\n",
    "clf = DecisionTreeClassifier()\n",
    "clf.fit(X_tr, y_tr)"
   ]
  },
  {
   "cell_type": "code",
   "execution_count": 92,
   "metadata": {},
   "outputs": [
    {
     "data": {
      "text/plain": [
       "0.471929227628445"
      ]
     },
     "execution_count": 92,
     "metadata": {},
     "output_type": "execute_result"
    }
   ],
   "source": [
    "# R^2 score of our DecisionTree training set\n",
    "clf.score(X_tr, y_tr)"
   ]
  },
  {
   "cell_type": "code",
   "execution_count": 93,
   "metadata": {},
   "outputs": [
    {
     "data": {
      "text/plain": [
       "0.0010204081632653062"
      ]
     },
     "execution_count": 93,
     "metadata": {},
     "output_type": "execute_result"
    }
   ],
   "source": [
    "# R^2 score of our DecisionTree testing set\n",
    "clf.score(X_ts, y_ts)"
   ]
  },
  {
   "cell_type": "code",
   "execution_count": 94,
   "metadata": {},
   "outputs": [
    {
     "data": {
      "text/plain": [
       "1720453.9473398626"
      ]
     },
     "execution_count": 94,
     "metadata": {},
     "output_type": "execute_result"
    }
   ],
   "source": [
    "# Find root mean squared error for prediction\n",
    "rmse = np.sqrt(np.mean((clf.predict(X_ts) - y_ts)**2))\n",
    "rmse"
   ]
  },
  {
   "cell_type": "code",
   "execution_count": 95,
   "metadata": {},
   "outputs": [
    {
     "data": {
      "image/png": "[encoded data removed]",
      "text/plain": [
       "<Figure size 432x288 with 1 Axes>"
      ]
     },
     "metadata": {
      "image/png": {
       "height": 263,
       "width": 384
      },
      "needs_background": "light"
     },
     "output_type": "display_data"
    }
   ],
   "source": [
    "# distribution of R^2 scores over 100 Decision Tree model builds\n",
    "out = []\n",
    "for _ in range(100):\n",
    "    X_tr, X_ts, y_tr, y_ts = train_test_split(X, y, test_size=0.25)\n",
    "    clf.fit(X_tr, y_tr)\n",
    "    out.append(clf.score(X_ts, y_ts))\n",
    "pd.Series(out).plot(kind='hist', title='R^2 scores in 100 model builds');"
   ]
  },
  {
   "cell_type": "code",
   "execution_count": 96,
   "metadata": {},
   "outputs": [
    {
     "data": {
      "text/plain": [
       "{'Spend': 0.9874943227032243,\n",
       " 'Targeting Connection Type': 0.0,\n",
       " 'Targeting Carrier (ISP)': 0.0,\n",
       " 'Year': 0.012505677296775633}"
      ]
     },
     "execution_count": 96,
     "metadata": {},
     "output_type": "execute_result"
    }
   ],
   "source": [
    "# determining the best predictor of Impressions using numerical\n",
    "# columns on a DecisionTreeClassifier\n",
    "dict(zip(X.columns, clf.feature_importances_))"
   ]
  },
  {
   "cell_type": "code",
   "execution_count": 97,
   "metadata": {},
   "outputs": [
    {
     "data": {
      "text/plain": [
       "480"
      ]
     },
     "execution_count": 97,
     "metadata": {},
     "output_type": "execute_result"
    }
   ],
   "source": [
    "# look at the depth and see how deep is the tree\n",
    "# it's unreasonably large, literally has learned the individuals\n",
    "clf.tree_.max_depth"
   ]
  },
  {
   "cell_type": "code",
   "execution_count": 98,
   "metadata": {},
   "outputs": [
    {
     "data": {
      "text/plain": [
       "2717"
      ]
     },
     "execution_count": 98,
     "metadata": {},
     "output_type": "execute_result"
    }
   ],
   "source": [
    "# counts the amount of node within the decision tree\n",
    "# there are 2703 if/else statements within the tree!\n",
    "# the model has learned the individuals\n",
    "clf.tree_.node_count"
   ]
  },
  {
   "cell_type": "code",
   "execution_count": 107,
   "metadata": {},
   "outputs": [],
   "source": [
    "# determine the best score based on max_depth\n",
    "params = np.arange(2,500,20)\n",
    "\n",
    "param_score = {}\n",
    "for i in params:\n",
    "    X_tr, X_ts, y_tr, y_ts = train_test_split(X, y, test_size=0.25)\n",
    "    # create DecisionTreeClassifiers\n",
    "    clfs = DecisionTreeClassifier(max_depth=params)\n",
    "    clf.fit(X_tr, y_tr)\n",
    "    \n",
    "    # dict of max_depth to score\n",
    "    param_score[i] = clf.score(X_ts, y_ts)"
   ]
  },
  {
   "cell_type": "code",
   "execution_count": 110,
   "metadata": {},
   "outputs": [
    {
     "data": {
      "text/plain": [
       "{2: 0.0020408163265306124,\n",
       " 22: 0.0010204081632653062,\n",
       " 42: 0.0010204081632653062,\n",
       " 62: 0.0010204081632653062,\n",
       " 82: 0.0010204081632653062,\n",
       " 102: 0.0,\n",
       " 122: 0.0,\n",
       " 142: 0.0010204081632653062,\n",
       " 162: 0.0,\n",
       " 182: 0.0010204081632653062,\n",
       " 202: 0.0010204081632653062,\n",
       " 222: 0.0020408163265306124,\n",
       " 242: 0.0010204081632653062,\n",
       " 262: 0.0010204081632653062,\n",
       " 282: 0.0010204081632653062,\n",
       " 302: 0.0020408163265306124,\n",
       " 322: 0.0010204081632653062,\n",
       " 342: 0.0,\n",
       " 362: 0.0010204081632653062,\n",
       " 382: 0.0010204081632653062,\n",
       " 402: 0.0020408163265306124,\n",
       " 422: 0.0010204081632653062,\n",
       " 442: 0.0020408163265306124,\n",
       " 462: 0.0010204081632653062,\n",
       " 482: 0.0010204081632653062}"
      ]
     },
     "execution_count": 110,
     "metadata": {},
     "output_type": "execute_result"
    }
   ],
   "source": [
    "param_score"
   ]
  },
  {
   "cell_type": "markdown",
   "metadata": {},
   "source": [
    "### Fairness Evaluation"
   ]
  },
  {
   "cell_type": "code",
   "execution_count": 59,
   "metadata": {},
   "outputs": [],
   "source": [
    "# differentiate columns based on type\n",
    "types = political_2018_2019.dtypes\n",
    "\n",
    "# drop unique attributes for each ad\n",
    "specificscols = ['ADID', 'CreativeUrl', 'OrganizationName', 'BillingAddress',\n",
    "                 'CandidateBallotInformation', 'PayingAdvertiserName',\n",
    "                 'CreativeProperties', 'Impressions', 'StartDate', 'EndDate']\n",
    "\n",
    "# ordinal columns that will be used to ordinal encode\n",
    "ordinalcols = ['Regions (Included)','Regions (Excluded)',\n",
    "               'Electoral Districts (Included)', 'Electoral Districts (Excluded)',\n",
    "               'Interests', 'Radius Targeting (Included)', 'Radius Targeting (Excluded)',\n",
    "               'Metros (Included)', 'Metros (Excluded)',\n",
    "               'Postal Codes (Included)', 'Postal Codes (Excluded)',\n",
    "               'Location Categories (Included)', 'Location Categories (Excluded)',\n",
    "               'AdvancedDemographics', 'AgeBracket']\n",
    "\n",
    "# categorical columns that will be used to one hot encode\n",
    "catcols = [i for i in types.loc[types == np.object].index if i not in ordinalcols\n",
    "           and i not in specificscols]\n",
    "\n",
    "# numerical columns\n",
    "numcols = [i for i in types.loc[types != np.object].index if i not in ordinalcols\n",
    "           and i not in specificscols if i != 'Impressions']"
   ]
  },
  {
   "cell_type": "code",
   "execution_count": 60,
   "metadata": {},
   "outputs": [],
   "source": [
    "# transform ordinal columns\n",
    "X = pd.DataFrame()\n",
    "for i in ordinalcols:\n",
    "    # AgeBracket to midpoint age target\n",
    "    if i == 'AgeBracket':\n",
    "        X[i] = political_2018_2019[i].apply(find_AgeBracket_midpoint)\n",
    "    # ordinal columns into number of variables/targets\n",
    "    else:\n",
    "        X[i] = political_2018_2019[i].apply(ordinal_tranf)"
   ]
  },
  {
   "cell_type": "code",
   "execution_count": 61,
   "metadata": {},
   "outputs": [],
   "source": [
    "X = pd.concat([X, political_2018_2019[numcols]], axis=1)\n",
    "X = pd.concat([X, political_2018_2019[catcols]], axis = 1)\n",
    "y = political_2018_2019['Impressions']"
   ]
  },
  {
   "cell_type": "code",
   "execution_count": 62,
   "metadata": {},
   "outputs": [],
   "source": [
    "# improved categorical pipeline: imputer for null values, \n",
    "# one hot encoder for categorical columns, and pca to drop correlated features\n",
    "cats = Pipeline([\n",
    "    ('imp', SimpleImputer(strategy='constant', fill_value='NULL')),\n",
    "    ('ohe', OneHotEncoder(handle_unknown='ignore', sparse=False)),\n",
    "    ('pca', PCA(svd_solver='full', n_components=0.99))\n",
    "])\n",
    "\n",
    "# for numericals: impute nan values with 0\n",
    "ct = ColumnTransformer([\n",
    "    ('catcols', cats, catcols),\n",
    "    ('numcols', SimpleImputer(strategy='constant', fill_value=0), numcols)\n",
    "])\n",
    "\n",
    "# pipeline for transforming columns and linear regression\n",
    "pl = Pipeline([('feats', ct), ('reg', LinearRegression())])"
   ]
  },
  {
   "cell_type": "code",
   "execution_count": 63,
   "metadata": {},
   "outputs": [],
   "source": [
    "# split into training set and testing set\n",
    "X_tr, X_ts, y_tr, y_ts = train_test_split(X, y, test_size=0.25)\n",
    "\n",
    "# fit pipeline on training set and predict the Impressions on the training set\n",
    "pl.fit(X_tr, y_tr)\n",
    "preds = pl.predict(X_ts)"
   ]
  },
  {
   "cell_type": "code",
   "execution_count": 64,
   "metadata": {},
   "outputs": [
    {
     "data": {
      "text/plain": [
       "<matplotlib.axes._subplots.AxesSubplot at 0x1d476395710>"
      ]
     },
     "execution_count": 64,
     "metadata": {},
     "output_type": "execute_result"
    },
    {
     "data": {
      "image/png": "[encoded data removed]",
      "text/plain": [
       "<Figure size 432x288 with 1 Axes>"
      ]
     },
     "metadata": {
      "image/png": {
       "height": 301,
       "width": 364
      },
      "needs_background": "light"
     },
     "output_type": "display_data"
    }
   ],
   "source": [
    "# create a new dataframe that contains bracket of spend amounts (by the 1000s),\n",
    "# Impression predictions, and actual amount of Impressions\n",
    "results=X_ts.assign(spend_bracket=X_ts['Spend'].apply(lambda x:1000*(x//1000+1)))\n",
    "results=results.assign(prediction=preds)\n",
    "results=results.assign(test_impressions=y_ts)\n",
    "(\n",
    "    results\n",
    "    .groupby('spend_bracket')\n",
    "    .apply(lambda x: np.sqrt(np.mean((x.prediction - x.test_impressions)**2)))\n",
    "    .plot(kind='bar')\n",
    ")\n",
    "\n",
    "# RMSE seems to be high for high spenders"
   ]
  },
  {
   "cell_type": "code",
   "execution_count": 70,
   "metadata": {},
   "outputs": [
    {
     "data": {
      "text/plain": [
       "1960.9"
      ]
     },
     "execution_count": 70,
     "metadata": {},
     "output_type": "execute_result"
    }
   ],
   "source": [
    "# use the mean of spends to determine what is high and low spend\n",
    "results.Spend.mean()"
   ]
  },
  {
   "cell_type": "code",
   "execution_count": 71,
   "metadata": {},
   "outputs": [
    {
     "data": {
      "text/html": [
       "<div>\n",
       "<style scoped>\n",
       "    .dataframe tbody tr th:only-of-type {\n",
       "        vertical-align: middle;\n",
       "    }\n",
       "\n",
       "    .dataframe tbody tr th {\n",
       "        vertical-align: top;\n",
       "    }\n",
       "\n",
       "    .dataframe thead th {\n",
       "        text-align: right;\n",
       "    }\n",
       "</style>\n",
       "<table border=\"1\" class=\"dataframe\">\n",
       "  <thead>\n",
       "    <tr style=\"text-align: right;\">\n",
       "      <th></th>\n",
       "      <th>0</th>\n",
       "    </tr>\n",
       "    <tr>\n",
       "      <th>amt_spent</th>\n",
       "      <th></th>\n",
       "    </tr>\n",
       "  </thead>\n",
       "  <tbody>\n",
       "    <tr>\n",
       "      <th>high</th>\n",
       "      <td>1.149660e+07</td>\n",
       "    </tr>\n",
       "    <tr>\n",
       "      <th>low</th>\n",
       "      <td>3.199551e+05</td>\n",
       "    </tr>\n",
       "  </tbody>\n",
       "</table>\n",
       "</div>"
      ],
      "text/plain": [
       "                      0\n",
       "amt_spent              \n",
       "high       1.149660e+07\n",
       "low        3.199551e+05"
      ]
     },
     "execution_count": 71,
     "metadata": {},
     "output_type": "execute_result"
    }
   ],
   "source": [
    "# split amount spent on ad to low spend and high spend\n",
    "results = (\n",
    "    results.assign(amt_spent = (results.Spend < 1960.9)\n",
    "                   .replace({True:'low', False:'high'}))\n",
    "\n",
    "# RMSE based on whether or not spend is low or high\n",
    "(\n",
    "    results.groupby('amt_spent')\n",
    "    .apply(lambda x: np.sqrt(np.mean((x.prediction - x.test_impressions)**2)))\n",
    "    .to_frame()\n",
    ")"
   ]
  },
  {
   "cell_type": "code",
   "execution_count": 77,
   "metadata": {},
   "outputs": [
    {
     "data": {
      "text/plain": [
       "-11176641.62398414"
      ]
     },
     "execution_count": 77,
     "metadata": {},
     "output_type": "execute_result"
    }
   ],
   "source": [
    "# observed difference for RMSE in low spend - high spend\n",
    "obs = (\n",
    "    results.groupby('amt_spent')\n",
    "    .apply(lambda x: np.sqrt(np.mean((x.prediction - x.test_impressions)**2)))\n",
    "    .diff().iloc[-1]\n",
    ")\n",
    "obs"
   ]
  },
  {
   "cell_type": "code",
   "execution_count": 78,
   "metadata": {},
   "outputs": [
    {
     "name": "stdout",
     "output_type": "stream",
     "text": [
      "p-value is equal to 0.0\n",
      "observed TVD of RMSE is -11176641.62398414\n"
     ]
    },
    {
     "data": {
      "text/plain": [
       "<matplotlib.collections.PathCollection at 0x1d477348a90>"
      ]
     },
     "execution_count": 78,
     "metadata": {},
     "output_type": "execute_result"
    },
    {
     "data": {
      "image/png": "[encoded data removed]",
      "text/plain": [
       "<Figure size 432x288 with 1 Axes>"
      ]
     },
     "metadata": {
      "image/png": {
       "height": 276,
       "width": 527
      },
      "needs_background": "light"
     },
     "output_type": "display_data"
    }
   ],
   "source": [
    "metrs = []\n",
    "# 100 simulations of null hypothesis\n",
    "for _ in range(1000):\n",
    "    # shuffle low spend and high spend labels\n",
    "    # calculate the difference for RMSE's\n",
    "    s = (\n",
    "        results[['amt_spent', 'prediction', 'test_impressions']]\n",
    "        .assign(amt_spent=results.amt_spent.sample(frac=1.0, replace=False)\n",
    "                .reset_index(drop=True))\n",
    "        .groupby('amt_spent')\n",
    "        .apply(lambda x: np.sqrt(np.mean((x.prediction - x.test_impressions)**2)))\n",
    "        .diff()\n",
    "        .iloc[-1]\n",
    "    )\n",
    "    \n",
    "    metrs.append(s)\n",
    "\n",
    "# calculate p-value, observed TVD of RMS\n",
    "print('p-value is equal to ' + str(pd.Series(metrs <= obs).mean()))\n",
    "print('observed TVD of RMSE is ' + str(obs))\n",
    "title = 'Distribution of Total Variation Distance of RMSE of low spend amt vs. high spend amt'\n",
    "pd.Series(metrs).plot(kind='hist', title=title)\n",
    "plt.scatter(obs, 0, c='r')"
   ]
  }
 ],
 "metadata": {
  "kernelspec": {
   "display_name": "Python 3",
   "language": "python",
   "name": "python3"
  },
  "language_info": {
   "codemirror_mode": {
    "name": "ipython",
    "version": 3
   },
   "file_extension": ".py",
   "mimetype": "text/x-python",
   "name": "python",
   "nbconvert_exporter": "python",
   "pygments_lexer": "ipython3",
   "version": "3.7.1"
  }
 },
 "nbformat": 4,
 "nbformat_minor": 2
}
